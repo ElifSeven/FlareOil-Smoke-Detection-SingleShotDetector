{
  "nbformat": 4,
  "nbformat_minor": 0,
  "metadata": {
    "colab": {
      "name": "SingleShotDetector-final2.ipynb",
      "provenance": [],
      "collapsed_sections": []
    },
    "kernelspec": {
      "display_name": "Python 3",
      "name": "python3"
    },
    "accelerator": "GPU"
  },
  "cells": [
    {
      "cell_type": "markdown",
      "metadata": {
        "id": "ywLTsRXITas-"
      },
      "source": [
        "**Install TensorFlow and other dependencies**"
      ]
    },
    {
      "cell_type": "code",
      "metadata": {
        "id": "8WAUDct-2tT5"
      },
      "source": [
        "!pip install --upgrade pip\n",
        "!pip install --upgrade protobuf "
      ],
      "execution_count": null,
      "outputs": []
    },
    {
      "cell_type": "code",
      "metadata": {
        "id": "VVGEEyBWuybR"
      },
      "source": [
        "%tensorflow_version 1.15\n",
        "import tensorflow as tf\n",
        "print(tf.__version__)\n",
        "\n",
        "!pip install numpy"
      ],
      "execution_count": null,
      "outputs": []
    },
    {
      "cell_type": "markdown",
      "metadata": {
        "id": "aOF5xbonUEji"
      },
      "source": [
        "**Check GPU status**"
      ]
    },
    {
      "cell_type": "code",
      "metadata": {
        "id": "c2imyYdAUG6X"
      },
      "source": [
        "device_name = tf.test.gpu_device_name()\n",
        "if device_name != '/device:GPU:0':\n",
        "   raise SystemError('GPU device not found')\n",
        "print('Found GPU at: {}'.format(device_name))"
      ],
      "execution_count": null,
      "outputs": []
    },
    {
      "cell_type": "code",
      "metadata": {
        "id": "NELP24dfr__j"
      },
      "source": [
        "# memory footprint support libraries/code\n",
        "!ln -sf /opt/bin/nvidia-smi /usr/bin/nvidia-smi\n",
        "!pip install gputil\n",
        "!pip install psutil\n",
        "!pip install humanize\n",
        "import psutil\n",
        "import humanize\n",
        "import os\n",
        "import GPUtil as GPU\n",
        "GPUs = GPU.getGPUs()\n",
        "# XXX: only one GPU on Colab and isn’t guaranteed\n",
        "gpu = GPUs[0]\n",
        "def printm():\n",
        " process = psutil.Process(os.getpid())\n",
        " print(\"Gen RAM Free: \" + humanize.naturalsize( psutil.virtual_memory().available ), \" | Proc size: \" + humanize.naturalsize( process.memory_info().rss))\n",
        " print(\"GPU RAM Free: {0:.0f}MB | Used: {1:.0f}MB | Util {2:3.0f}% | Total {3:.0f}MB\".format(gpu.memoryFree, gpu.memoryUsed, gpu.memoryUtil*100, gpu.memoryTotal))\n",
        "printm()"
      ],
      "execution_count": null,
      "outputs": []
    },
    {
      "cell_type": "markdown",
      "metadata": {
        "id": "zPFwmz8-Thlv"
      },
      "source": [
        "**Mount Google Drive folder**"
      ]
    },
    {
      "cell_type": "code",
      "metadata": {
        "id": "3FZq1IZ-zwfw"
      },
      "source": [
        "from google.colab import drive\n",
        "drive.mount('/content/gdrive')\n",
        "\n",
        "# change to working tensorflow directory on the drive\n",
        "#%cd '/content/gdrive/My Drive/models/'"
      ],
      "execution_count": null,
      "outputs": []
    },
    {
      "cell_type": "code",
      "metadata": {
        "id": "AGlOadmn2CNn"
      },
      "source": [
        "# I change My\\ Drive/ to mydrive for easier\n",
        "\n",
        "!ln -s /content/gdrive/My\\ Drive/ /mydrive"
      ],
      "execution_count": null,
      "outputs": []
    },
    {
      "cell_type": "code",
      "metadata": {
        "id": "ENuDWv772EXb"
      },
      "source": [
        "# I am controlling the contents of models folder\n",
        "\n",
        "!ls /content/gdrive/MyDrive/models"
      ],
      "execution_count": null,
      "outputs": []
    },
    {
      "cell_type": "markdown",
      "metadata": {
        "id": "gw8JMJiHTnBY"
      },
      "source": [
        "**Install protobuf and compile, install setup.py**"
      ]
    },
    {
      "cell_type": "code",
      "metadata": {
        "id": "JsOeYR__0Q3J"
      },
      "source": [
        "!apt-get install protobuf-compiler python-pil python-lxml python-tk\n",
        "!pip install Cython\n",
        "%cd /content/gdrive/MyDrive/models/research\n",
        "!protoc object_detection/protos/*.proto --python_out=.\n",
        "\n",
        "import os\n",
        "os.environ['PYTHONPATH'] += ':/content/gdrive/MyDrive/models/research/:/content/gdrive/MyDrive/models/research/slim'\n",
        "\n",
        "!python /content/gdrive/MyDrive/models/research/slim/setup.py build\n",
        "!python /content/gdrive/MyDrive/models/research/slim/setup.py install"
      ],
      "execution_count": null,
      "outputs": []
    },
    {
      "cell_type": "markdown",
      "metadata": {
        "id": "VOA1qhgXTrw4"
      },
      "source": [
        "**Check remaining GPU time**"
      ]
    },
    {
      "cell_type": "code",
      "metadata": {
        "colab": {
          "base_uri": "https://localhost:8080/"
        },
        "id": "GA7Fzh211CNU",
        "outputId": "44b4ab10-0473-4063-8c48-5ba83cb2c574"
      },
      "source": [
        "import time, psutil\n",
        "Start = time.time()- psutil.boot_time()\n",
        "Left= 12*3600 - Start\n",
        "print('Time remaining for this session is: ', Left/3600)"
      ],
      "execution_count": null,
      "outputs": [
        {
          "output_type": "stream",
          "text": [
            "Time remaining for this session is:  11.735525415605968\n"
          ],
          "name": "stdout"
        }
      ]
    },
    {
      "cell_type": "markdown",
      "metadata": {
        "id": "jR_EHmf-WA4Z"
      },
      "source": [
        "# ***Start training***"
      ]
    },
    {
      "cell_type": "code",
      "metadata": {
        "id": "F9_qRuibV7gb"
      },
      "source": [
        "!pip install tf_slim\n",
        "%cd /content/gdrive/MyDrive/models/research/object_detection\n",
        "os.environ['PYTHONPATH'] += ':/content/gdrive/MyDrive/models/research/:/content/gdrive/MyDrive/models/research/slim'\n",
        "\n",
        "!python train.py --train_dir=training/ --pipeline_config_path=training/ssd_mobilenet_v1_pets.config --logtostderr"
      ],
      "execution_count": null,
      "outputs": []
    },
    {
      "cell_type": "code",
      "metadata": {
        "id": "Jh1COc7ljNvE"
      },
      "source": [
        ""
      ],
      "execution_count": null,
      "outputs": []
    },
    {
      "cell_type": "markdown",
      "metadata": {
        "id": "UD-GSvWMTxOx"
      },
      "source": [
        "***Export inference graph***"
      ]
    },
    {
      "cell_type": "code",
      "metadata": {
        "id": "aKYmR4NPScOm"
      },
      "source": [
        "#  .ckpt needs to be updated every time to match last .ckpt generated\n",
        "#  .config needs to be updated when changing model\n",
        "!python export_inference_graph.py --input_type image_tensor --pipeline_config_path training/ssd_mobilenet_v1_pets.config --trained_checkpoint_prefix training/model.ckpt-6325 --output_directory new_graph"
      ],
      "execution_count": null,
      "outputs": []
    },
    {
      "cell_type": "markdown",
      "metadata": {
        "id": "22wf5JXJT0ZH"
      },
      "source": [
        "Zip file in Google Drive"
      ]
    },
    {
      "cell_type": "code",
      "metadata": {
        "id": "OnqFIgn2S9gp"
      },
      "source": [
        "!zip -r model_graph.zip new_graph"
      ],
      "execution_count": null,
      "outputs": []
    },
    {
      "cell_type": "markdown",
      "metadata": {
        "id": "5VtgVSt0nV5U"
      },
      "source": [
        "## **Test**\n",
        "\n",
        "\n",
        "*   **40 images tested and detected.**\n",
        "*   **Some videos tested**\n",
        "\n"
      ]
    },
    {
      "cell_type": "markdown",
      "metadata": {
        "id": "1oqNFXaddcek"
      },
      "source": [
        "***Run the code \"custom_model_images\" to test the images.***"
      ]
    },
    {
      "cell_type": "code",
      "metadata": {
        "id": "gwioxrt2jVZU"
      },
      "source": [
        "!python /content/gdrive/MyDrive/models/research/object_detection/custom_model_images.py"
      ],
      "execution_count": null,
      "outputs": []
    },
    {
      "cell_type": "markdown",
      "metadata": {
        "id": "ojJ5kvBbdULU"
      },
      "source": [
        "***If it is not working, run the below code***"
      ]
    },
    {
      "cell_type": "code",
      "metadata": {
        "id": "NQbV3K2qo0xs"
      },
      "source": [
        "# !pip install lvis"
      ],
      "execution_count": null,
      "outputs": []
    },
    {
      "cell_type": "markdown",
      "metadata": {
        "id": "BMiMizSF7OwK"
      },
      "source": [
        "***Run the code \"custom_model_video\" to test the video.***"
      ]
    },
    {
      "cell_type": "code",
      "metadata": {
        "id": "v1v-yBt6jDaV"
      },
      "source": [
        "!python /content/gdrive/MyDrive/models/research/object_detection/custom_model_video.py"
      ],
      "execution_count": null,
      "outputs": []
    },
    {
      "cell_type": "code",
      "metadata": {
        "id": "nVpFfrwqFV2t"
      },
      "source": [
        ""
      ],
      "execution_count": null,
      "outputs": []
    },
    {
      "cell_type": "markdown",
      "metadata": {
        "id": "RV-11X1QjsNj"
      },
      "source": [
        "***Summary metrics of model***"
      ]
    },
    {
      "cell_type": "code",
      "metadata": {
        "id": "Ah1JS5c0-zq3"
      },
      "source": [
        "!python /content/gdrive/MyDrive/models/research/object_detection/model_main.py --pipeline_config_path=/content/gdrive/MyDrive/models/research/object_detection/training/ssd_mobilenet_v1_pets.config --model_dir=/content/gdrive/MyDrive/models/research/object_detection/new_graph --eval_training_data=True --checkpoint_dir=/content/gdrive/MyDrive/models/research/object_detection/training --run_once=True\n"
      ],
      "execution_count": null,
      "outputs": []
    },
    {
      "cell_type": "markdown",
      "metadata": {
        "id": "Aq3RfvZR8Oy6"
      },
      "source": [
        "***Confusion matrix in csv format***"
      ]
    },
    {
      "cell_type": "code",
      "metadata": {
        "id": "UFLdi_kJtS3F"
      },
      "source": [
        "!python /content/gdrive/MyDrive/models/research/object_detection/confusion_matrix.py --detections_record=/content/gdrive/MyDrive/models/research/object_detection/data/out.record --label_map=/content/gdrive/MyDrive/models/research/object_detection/training/object-detection.pbtxt --output_path=/content/gdrive/MyDrive/models/research/object_detection/data/confusion_matrix.csv\n"
      ],
      "execution_count": null,
      "outputs": []
    },
    {
      "cell_type": "code",
      "metadata": {
        "id": "ULnQibt6tUK4"
      },
      "source": [
        ""
      ],
      "execution_count": null,
      "outputs": []
    }
  ]
}